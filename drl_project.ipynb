{
 "cells": [
  {
   "cell_type": "code",
   "execution_count": 17,
   "id": "ee69b4c6",
   "metadata": {},
   "outputs": [],
   "source": [
    "import numpy as np\n",
    "import pandas as pd\n",
    "import seaborn as sns\n",
    "import matplotlib.pyplot as plt\n",
    "from datetime import datetime"
   ]
  },
  {
   "cell_type": "code",
   "execution_count": 18,
   "id": "9ddd4099",
   "metadata": {},
   "outputs": [],
   "source": [
    "sns.set(style='darkgrid')\n",
    "sns.set(rc={'figure.figsize':(12,8)})"
   ]
  },
  {
   "cell_type": "code",
   "execution_count": 16,
   "id": "186d7687",
   "metadata": {},
   "outputs": [],
   "source": [
    "# read factors\n",
    "dateparse = lambda x: datetime.strptime(x, '%Y-%m-%d')\n",
    "factors_returns = pd.read_csv('factors_returns.csv', index_col=0, \n",
    "                      parse_dates=True, date_parser=dateparse)\n",
    "strategy_returns = pd.read_csv('strategy_returns.csv', index_col=0, \n",
    "                      parse_dates=True, date_parser=dateparse)\n",
    "\n",
    "# create simple random weights (equal weight plus some noise 4% per annum)\n",
    "data = np.tile( [1/factors_returns.shape[1]] * factors_returns.shape[1], \n",
    "               factors_returns.shape[0]).reshape(factors_returns.shape)\n",
    "weights = pd.DataFrame(index=factors_returns.index, columns = factors_returns.columns, data=data)\n",
    "weights += np.random.normal(0, 0.04/ np.sqrt(250), weights.shape)"
   ]
  },
  {
   "cell_type": "code",
   "execution_count": 3,
   "id": "be08dcea",
   "metadata": {},
   "outputs": [],
   "source": [
    "def reward(weights, factors_returns, strategy_returns):\n",
    "    pred_returns = (1 + (weights * factors_returns).sum(axis=1)).cumprod(\n",
    "        ).pct_change().fillna(0)\n",
    "    tracking_error =  (pred_returns.values - strategy_returns.iloc[:,0].values\n",
    "        ) * np.sqrt(250) * np.sqrt(weights.shape[1]+1)\n",
    "    turn_over = 0.0020 * 365 * ((weights - weights.shift(1)).abs().fillna(0).values\n",
    "        ) / ((weights.index[-1] -weights.index[0]).days) * np.sqrt(\n",
    "        weights.shape[0] * (weights.shape[1]+1)) \n",
    "    error_terms = np.concatenate([tracking_error, turn_over.flatten()], axis=0)\n",
    "    return -np.sqrt(np.mean(error_terms**2))"
   ]
  },
  {
   "cell_type": "code",
   "execution_count": 4,
   "id": "b57f4912",
   "metadata": {},
   "outputs": [
    {
     "name": "stdout",
     "output_type": "stream",
     "text": [
      "reward -0.04392\n"
     ]
    }
   ],
   "source": [
    "print('reward {:.4}'.format(reward(weights, factors_returns, strategy_returns)))"
   ]
  },
  {
   "cell_type": "code",
   "execution_count": 6,
   "id": "e15a80d2",
   "metadata": {},
   "outputs": [
    {
     "data": {
      "text/html": [
       "<div>\n",
       "<style scoped>\n",
       "    .dataframe tbody tr th:only-of-type {\n",
       "        vertical-align: middle;\n",
       "    }\n",
       "\n",
       "    .dataframe tbody tr th {\n",
       "        vertical-align: top;\n",
       "    }\n",
       "\n",
       "    .dataframe thead th {\n",
       "        text-align: right;\n",
       "    }\n",
       "</style>\n",
       "<table border=\"1\" class=\"dataframe\">\n",
       "  <thead>\n",
       "    <tr style=\"text-align: right;\">\n",
       "      <th></th>\n",
       "      <th>Bloomberg Commodities</th>\n",
       "      <th>Dollar Index</th>\n",
       "      <th>EM Bond USD</th>\n",
       "      <th>EU Global Aggregate</th>\n",
       "      <th>EU HY</th>\n",
       "      <th>EU Stoxx 600</th>\n",
       "      <th>Japan Nikkei 225</th>\n",
       "      <th>MSCI EM USD</th>\n",
       "      <th>US Global Aggregate</th>\n",
       "      <th>US HY</th>\n",
       "      <th>US S&amp;P 500</th>\n",
       "    </tr>\n",
       "    <tr>\n",
       "      <th>Date</th>\n",
       "      <th></th>\n",
       "      <th></th>\n",
       "      <th></th>\n",
       "      <th></th>\n",
       "      <th></th>\n",
       "      <th></th>\n",
       "      <th></th>\n",
       "      <th></th>\n",
       "      <th></th>\n",
       "      <th></th>\n",
       "      <th></th>\n",
       "    </tr>\n",
       "  </thead>\n",
       "  <tbody>\n",
       "    <tr>\n",
       "      <th>2010-01-04</th>\n",
       "      <td>0.092284</td>\n",
       "      <td>0.091359</td>\n",
       "      <td>0.094627</td>\n",
       "      <td>0.092606</td>\n",
       "      <td>0.088121</td>\n",
       "      <td>0.091708</td>\n",
       "      <td>0.093804</td>\n",
       "      <td>0.085359</td>\n",
       "      <td>0.089849</td>\n",
       "      <td>0.084972</td>\n",
       "      <td>0.088891</td>\n",
       "    </tr>\n",
       "    <tr>\n",
       "      <th>2010-01-05</th>\n",
       "      <td>0.083698</td>\n",
       "      <td>0.088837</td>\n",
       "      <td>0.091710</td>\n",
       "      <td>0.094045</td>\n",
       "      <td>0.086949</td>\n",
       "      <td>0.089361</td>\n",
       "      <td>0.097002</td>\n",
       "      <td>0.089983</td>\n",
       "      <td>0.093908</td>\n",
       "      <td>0.093264</td>\n",
       "      <td>0.087156</td>\n",
       "    </tr>\n",
       "    <tr>\n",
       "      <th>2010-01-06</th>\n",
       "      <td>0.091095</td>\n",
       "      <td>0.091392</td>\n",
       "      <td>0.086690</td>\n",
       "      <td>0.093426</td>\n",
       "      <td>0.091758</td>\n",
       "      <td>0.093523</td>\n",
       "      <td>0.090093</td>\n",
       "      <td>0.091024</td>\n",
       "      <td>0.087420</td>\n",
       "      <td>0.094085</td>\n",
       "      <td>0.090690</td>\n",
       "    </tr>\n",
       "    <tr>\n",
       "      <th>2010-01-07</th>\n",
       "      <td>0.091123</td>\n",
       "      <td>0.089522</td>\n",
       "      <td>0.092620</td>\n",
       "      <td>0.094168</td>\n",
       "      <td>0.089641</td>\n",
       "      <td>0.092216</td>\n",
       "      <td>0.091362</td>\n",
       "      <td>0.093089</td>\n",
       "      <td>0.093915</td>\n",
       "      <td>0.087683</td>\n",
       "      <td>0.090616</td>\n",
       "    </tr>\n",
       "    <tr>\n",
       "      <th>2010-01-08</th>\n",
       "      <td>0.091642</td>\n",
       "      <td>0.091256</td>\n",
       "      <td>0.094997</td>\n",
       "      <td>0.090678</td>\n",
       "      <td>0.090974</td>\n",
       "      <td>0.089171</td>\n",
       "      <td>0.089597</td>\n",
       "      <td>0.094673</td>\n",
       "      <td>0.090467</td>\n",
       "      <td>0.091316</td>\n",
       "      <td>0.090729</td>\n",
       "    </tr>\n",
       "  </tbody>\n",
       "</table>\n",
       "</div>"
      ],
      "text/plain": [
       "            Bloomberg Commodities  Dollar Index  EM Bond USD  \\\n",
       "Date                                                           \n",
       "2010-01-04               0.092284      0.091359     0.094627   \n",
       "2010-01-05               0.083698      0.088837     0.091710   \n",
       "2010-01-06               0.091095      0.091392     0.086690   \n",
       "2010-01-07               0.091123      0.089522     0.092620   \n",
       "2010-01-08               0.091642      0.091256     0.094997   \n",
       "\n",
       "            EU Global Aggregate     EU HY  EU Stoxx 600  Japan Nikkei 225  \\\n",
       "Date                                                                        \n",
       "2010-01-04             0.092606  0.088121      0.091708          0.093804   \n",
       "2010-01-05             0.094045  0.086949      0.089361          0.097002   \n",
       "2010-01-06             0.093426  0.091758      0.093523          0.090093   \n",
       "2010-01-07             0.094168  0.089641      0.092216          0.091362   \n",
       "2010-01-08             0.090678  0.090974      0.089171          0.089597   \n",
       "\n",
       "            MSCI EM USD  US Global Aggregate     US HY  US S&P 500  \n",
       "Date                                                                \n",
       "2010-01-04     0.085359             0.089849  0.084972    0.088891  \n",
       "2010-01-05     0.089983             0.093908  0.093264    0.087156  \n",
       "2010-01-06     0.091024             0.087420  0.094085    0.090690  \n",
       "2010-01-07     0.093089             0.093915  0.087683    0.090616  \n",
       "2010-01-08     0.094673             0.090467  0.091316    0.090729  "
      ]
     },
     "execution_count": 6,
     "metadata": {},
     "output_type": "execute_result"
    }
   ],
   "source": [
    "weights.head()"
   ]
  },
  {
   "cell_type": "code",
   "execution_count": 8,
   "id": "8d3aba47",
   "metadata": {},
   "outputs": [
    {
     "data": {
      "text/html": [
       "<div>\n",
       "<style scoped>\n",
       "    .dataframe tbody tr th:only-of-type {\n",
       "        vertical-align: middle;\n",
       "    }\n",
       "\n",
       "    .dataframe tbody tr th {\n",
       "        vertical-align: top;\n",
       "    }\n",
       "\n",
       "    .dataframe thead th {\n",
       "        text-align: right;\n",
       "    }\n",
       "</style>\n",
       "<table border=\"1\" class=\"dataframe\">\n",
       "  <thead>\n",
       "    <tr style=\"text-align: right;\">\n",
       "      <th></th>\n",
       "      <th>Last Price</th>\n",
       "    </tr>\n",
       "    <tr>\n",
       "      <th>Date</th>\n",
       "      <th></th>\n",
       "    </tr>\n",
       "  </thead>\n",
       "  <tbody>\n",
       "    <tr>\n",
       "      <th>2010-01-04</th>\n",
       "      <td>0.000000</td>\n",
       "    </tr>\n",
       "    <tr>\n",
       "      <th>2010-01-05</th>\n",
       "      <td>0.002270</td>\n",
       "    </tr>\n",
       "    <tr>\n",
       "      <th>2010-01-06</th>\n",
       "      <td>0.004127</td>\n",
       "    </tr>\n",
       "    <tr>\n",
       "      <th>2010-01-07</th>\n",
       "      <td>0.000179</td>\n",
       "    </tr>\n",
       "    <tr>\n",
       "      <th>2010-01-08</th>\n",
       "      <td>0.001401</td>\n",
       "    </tr>\n",
       "  </tbody>\n",
       "</table>\n",
       "</div>"
      ],
      "text/plain": [
       "            Last Price\n",
       "Date                  \n",
       "2010-01-04    0.000000\n",
       "2010-01-05    0.002270\n",
       "2010-01-06    0.004127\n",
       "2010-01-07    0.000179\n",
       "2010-01-08    0.001401"
      ]
     },
     "execution_count": 8,
     "metadata": {},
     "output_type": "execute_result"
    }
   ],
   "source": [
    "strategy_returns.head()"
   ]
  },
  {
   "cell_type": "code",
   "execution_count": 9,
   "id": "52ac80ed",
   "metadata": {},
   "outputs": [],
   "source": [
    "df=pd.DataFrame()"
   ]
  },
  {
   "cell_type": "code",
   "execution_count": 14,
   "id": "bcce6e57",
   "metadata": {},
   "outputs": [],
   "source": [
    "df['price']= 100 * (1 + factors_returns['Dollar Index']).cumprod()"
   ]
  },
  {
   "cell_type": "code",
   "execution_count": 19,
   "id": "842732b9",
   "metadata": {},
   "outputs": [
    {
     "data": {
      "text/plain": [
       "[<matplotlib.lines.Line2D at 0x2cb10a85160>]"
      ]
     },
     "execution_count": 19,
     "metadata": {},
     "output_type": "execute_result"
    },
    {
     "data": {
      "image/png": "[encoded data removed]",
      "text/plain": [
       "<Figure size 864x576 with 1 Axes>"
      ]
     },
     "metadata": {},
     "output_type": "display_data"
    }
   ],
   "source": [
    "plt.plot(df['price'])"
   ]
  },
  {
   "cell_type": "code",
   "execution_count": null,
   "id": "5571e3b9",
   "metadata": {},
   "outputs": [],
   "source": []
  }
 ],
 "metadata": {
  "kernelspec": {
   "display_name": "Python 3 (ipykernel)",
   "language": "python",
   "name": "python3"
  },
  "language_info": {
   "codemirror_mode": {
    "name": "ipython",
    "version": 3
   },
   "file_extension": ".py",
   "mimetype": "text/x-python",
   "name": "python",
   "nbconvert_exporter": "python",
   "pygments_lexer": "ipython3",
   "version": "3.9.7"
  }
 },
 "nbformat": 4,
 "nbformat_minor": 5
}
